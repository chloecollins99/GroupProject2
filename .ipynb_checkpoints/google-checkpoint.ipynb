{
 "cells": [
  {
   "cell_type": "code",
   "execution_count": 1,
   "metadata": {},
   "outputs": [],
   "source": [
    "# Dependencies\n",
    "import pandas as pd\n",
    "import numpy as np\n",
    "import requests\n",
    "import json\n",
    "from gmplot import gmplot\n",
    "from config import gkey"
   ]
  },
  {
   "cell_type": "code",
   "execution_count": 2,
   "metadata": {},
   "outputs": [],
   "source": [
    "# get Charlotte's coordinates\n",
    "gmap = gmplot.GoogleMapPlotter(35.227085, -80.843124,11) \n",
    "gmap.apikey = gkey"
   ]
  },
  {
   "cell_type": "code",
   "execution_count": 3,
   "metadata": {},
   "outputs": [],
   "source": [
    "# get the coordinates for the red line\n",
    "red_pd = pd.read_csv(\"red_line.csv\")\n",
    "red_pd.head()\n",
    "red_lat = []\n",
    "red_lon = []"
   ]
  },
  {
   "cell_type": "code",
   "execution_count": 4,
   "metadata": {},
   "outputs": [],
   "source": [
    "red_pd = red_pd.sort_values('info')"
   ]
  },
  {
   "cell_type": "code",
   "execution_count": 5,
   "metadata": {},
   "outputs": [],
   "source": [
    "for index, row in red_pd.iterrows():\n",
    "    red_lat.append(row['lat'])\n",
    "    red_lon.append(row['lon'])\n",
    "    gmap.marker(row['lat'], row['lon'], 'red', title=row['location'])\n",
    "   "
   ]
  },
  {
   "cell_type": "code",
   "execution_count": 6,
   "metadata": {},
   "outputs": [],
   "source": [
    "# gmap.scatter(red_lat, red_lon, '#00FF00',size = 200, marker = False)"
   ]
  },
  {
   "cell_type": "code",
   "execution_count": 7,
   "metadata": {},
   "outputs": [],
   "source": [
    "gmap.plot(red_lat, red_lon, 'red', edge_width=3)"
   ]
  },
  {
   "cell_type": "code",
   "execution_count": 8,
   "metadata": {},
   "outputs": [],
   "source": [
    "# get the coordinates for the blue line\n",
    "blue_pd = pd.read_csv(\"blue_line.csv\")\n",
    "blue_pd.head()\n",
    "blue_lat = []\n",
    "blue_lon = []"
   ]
  },
  {
   "cell_type": "code",
   "execution_count": 9,
   "metadata": {},
   "outputs": [],
   "source": [
    "blue_pd = blue_pd.sort_values('lat')"
   ]
  },
  {
   "cell_type": "code",
   "execution_count": 10,
   "metadata": {},
   "outputs": [],
   "source": [
    "for index, row in blue_pd.iterrows():\n",
    "    blue_lat.append(row['lat'])\n",
    "    blue_lon.append(row['lon'])\n",
    "    gmap.marker(row['lat'], row['lon'], 'blue', title=row['location'])"
   ]
  },
  {
   "cell_type": "code",
   "execution_count": 11,
   "metadata": {},
   "outputs": [],
   "source": [
    "# gmap.scatter(blue_lat, blue_lon, '#00FF00',size = 200, marker = False)"
   ]
  },
  {
   "cell_type": "code",
   "execution_count": 12,
   "metadata": {},
   "outputs": [],
   "source": [
    "gmap.plot(blue_lat, blue_lon, 'blue', edge_width=3)"
   ]
  },
  {
   "cell_type": "code",
   "execution_count": 13,
   "metadata": {},
   "outputs": [],
   "source": [
    "# get the coordinates for the silver line\n",
    "silver_pd = pd.read_csv(\"silver_line.csv\")\n",
    "silver_pd.head()\n",
    "silver_lat = []\n",
    "silver_lon = []"
   ]
  },
  {
   "cell_type": "code",
   "execution_count": 14,
   "metadata": {},
   "outputs": [],
   "source": [
    "silver_pd = silver_pd.sort_values('lon')"
   ]
  },
  {
   "cell_type": "code",
   "execution_count": 15,
   "metadata": {},
   "outputs": [],
   "source": [
    "for index, row in silver_pd.iterrows():\n",
    "    silver_lat.append(row['lat'])\n",
    "    silver_lon.append(row['lon'])\n",
    "    gmap.marker(row['lat'], row['lon'], 'silver', title=row['location'])"
   ]
  },
  {
   "cell_type": "code",
   "execution_count": 16,
   "metadata": {},
   "outputs": [],
   "source": [
    "# gmap.scatter(silver_lat, silver_lon, '#00FF00',size = 200, marker = False)"
   ]
  },
  {
   "cell_type": "code",
   "execution_count": 17,
   "metadata": {},
   "outputs": [],
   "source": [
    "gmap.plot(silver_lat, silver_lon, 'silver', edge_width=3)"
   ]
  },
  {
   "cell_type": "code",
   "execution_count": 18,
   "metadata": {},
   "outputs": [],
   "source": [
    "# get the coordinates for the gold line\n",
    "gold_pd = pd.read_csv(\"gold_line.csv\")\n",
    "gold_pd.head()\n",
    "gold_lat = []\n",
    "gold_lon = []"
   ]
  },
  {
   "cell_type": "code",
   "execution_count": 19,
   "metadata": {},
   "outputs": [],
   "source": [
    "gold_pd = gold_pd.sort_values('lon')"
   ]
  },
  {
   "cell_type": "code",
   "execution_count": 20,
   "metadata": {},
   "outputs": [],
   "source": [
    "for index, row in gold_pd.iterrows():\n",
    "    gold_lat.append(row['lat'])\n",
    "    gold_lon.append(row['lon'])\n",
    "    gmap.marker(row['lat'], row['lon'], 'gold', title=row['location'])"
   ]
  },
  {
   "cell_type": "code",
   "execution_count": 21,
   "metadata": {},
   "outputs": [],
   "source": [
    "# gmap.scatter(gold_lat, gold_lon, '#00FF00',size = 200, marker = False)"
   ]
  },
  {
   "cell_type": "code",
   "execution_count": 22,
   "metadata": {},
   "outputs": [],
   "source": [
    "gmap.plot(gold_lat, gold_lon, 'cornflowerblue', edge_width=3)"
   ]
  },
  {
   "cell_type": "code",
   "execution_count": 23,
   "metadata": {},
   "outputs": [],
   "source": [
    "# get the coordinates for the historic sites\n",
    "locations_pd = pd.read_csv(\"locations.csv\")\n",
    "locations_pd.head()\n",
    "locations_lat = []\n",
    "locations_lon = []"
   ]
  },
  {
   "cell_type": "code",
   "execution_count": 24,
   "metadata": {},
   "outputs": [],
   "source": [
    "for index, row in locations_pd.iterrows():\n",
    "    locations_lat.append(row['lat'])\n",
    "    locations_lon.append(row['lon'])\n",
    "    gmap.marker(row['lat'], row['lon'], 'purple', title=row['location'])"
   ]
  },
  {
   "cell_type": "code",
   "execution_count": 25,
   "metadata": {},
   "outputs": [],
   "source": [
    "# gmap.scatter(locations_lat, locations_lon, '#3B0B39', size=100, marker=False)\n",
    "# gmap.scatter(locations_lat, locations_lon, 'k', marker=True)"
   ]
  },
  {
   "cell_type": "code",
   "execution_count": 26,
   "metadata": {},
   "outputs": [],
   "source": [
    "# Draw\n",
    "gmap.draw(\"google_map.html\")"
   ]
  },
  {
   "cell_type": "code",
   "execution_count": null,
   "metadata": {},
   "outputs": [],
   "source": []
  }
 ],
 "metadata": {
  "kernelspec": {
   "display_name": "Python 3",
   "language": "python",
   "name": "python3"
  },
  "language_info": {
   "codemirror_mode": {
    "name": "ipython",
    "version": 3
   },
   "file_extension": ".py",
   "mimetype": "text/x-python",
   "name": "python",
   "nbconvert_exporter": "python",
   "pygments_lexer": "ipython3",
   "version": "3.7.3"
  }
 },
 "nbformat": 4,
 "nbformat_minor": 2
}
